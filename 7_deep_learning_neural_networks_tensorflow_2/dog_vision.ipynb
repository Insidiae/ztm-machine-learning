{
  "nbformat": 4,
  "nbformat_minor": 0,
  "metadata": {
    "colab": {
      "name": "dog-vision.ipynb",
      "provenance": [],
      "mount_file_id": "1SxvxDBk36pRQ8Rbu5lm2s7QyoxkMrOGu",
      "authorship_tag": "ABX9TyM4WrfZZAmNPMoXeZngL4eN",
      "include_colab_link": true
    },
    "kernelspec": {
      "name": "python3",
      "display_name": "Python 3"
    },
    "language_info": {
      "name": "python"
    },
    "accelerator": "GPU"
  },
  "cells": [
    {
      "cell_type": "markdown",
      "metadata": {
        "id": "view-in-github",
        "colab_type": "text"
      },
      "source": [
        "<a href=\"https://colab.research.google.com/github/Insidiae/ztm-machine-learning/blob/main/7_deep_learning_neural_networks_tensorflow_2/dog_vision.ipynb\" target=\"_parent\"><img src=\"https://colab.research.google.com/assets/colab-badge.svg\" alt=\"Open In Colab\"/></a>"
      ]
    },
    {
      "cell_type": "markdown",
      "metadata": {
        "id": "zzKNxaG7eKEU"
      },
      "source": [
        "# 🐶 Using Transfer Learning and TensorFlow 2.0 to Classify Different Dog Breeds\n",
        "\n",
        "This notebook builds an end-to-end multi-class image classifier using TensorFlow 2.x and TensorFlow Hub."
      ]
    },
    {
      "cell_type": "markdown",
      "metadata": {
        "id": "-noq6KlncShC"
      },
      "source": [
        "## 1. Problem\n",
        "\n",
        "> Identify the breed of a dog given an image of a dog.\n",
        "\n",
        "When I'm sitting at the cafe and I take a photo of a dog, I want to know what breed of dog it is."
      ]
    },
    {
      "cell_type": "markdown",
      "metadata": {
        "id": "zwg0Z-Elc19h"
      },
      "source": [
        "## 2. Data\n",
        "\n",
        "The data we're using is from [Kaggle's dog breed identification competition](https://www.kaggle.com/c/dog-breed-identification/data)."
      ]
    },
    {
      "cell_type": "markdown",
      "metadata": {
        "id": "VqsodSE7dAFD"
      },
      "source": [
        "## 3. Evaluation\n",
        "The evaluation is a file with prediction probabilities for each dog breed of each test image.\n",
        "\n",
        "For more info, check out the [Kaggle dog breed identification competition page](https://www.kaggle.com/c/dog-breed-identification/overview/evaluation)."
      ]
    },
    {
      "cell_type": "markdown",
      "metadata": {
        "id": "sJt6HMvSdOyb"
      },
      "source": [
        "## 4. Features\n",
        "\n",
        "Some information about the data:\n",
        "\n",
        "- We're dealing with images (unstructured data) so it's probably best we use deep learning/transfer learning.\n",
        "- There are 120 breeds of dogs (this means there are 120 different classes).\n",
        "- There are around 10,000+ images in the training set (these images have labels).\n",
        "- There are around 10,000+ images in the test set (these images have no labels, because we'll want to predict them)."
      ]
    },
    {
      "cell_type": "markdown",
      "metadata": {
        "id": "eBTFwBvGdfOj"
      },
      "source": [
        "### 4.1. Getting our workspace ready\n",
        "\n",
        "For this project, we'll be using [Google Colaboratory](https://colab.research.google.com/) to host our workspace.\n",
        "\n",
        "Here's a basic checklist of what we need to set up:\n",
        "\n",
        "- Import TensorFlow 2.x ✅"
      ]
    },
    {
      "cell_type": "code",
      "metadata": {
        "id": "8Px6lhBgei0t",
        "colab": {
          "base_uri": "https://localhost:8080/"
        },
        "outputId": "13112938-47ff-4e1f-9852-ddcdf5b6bbec"
      },
      "source": [
        "import tensorflow as tf\n",
        "print(\"TF version:\", tf.__version__)"
      ],
      "execution_count": 1,
      "outputs": [
        {
          "output_type": "stream",
          "name": "stdout",
          "text": [
            "TF version: 2.6.0\n"
          ]
        }
      ]
    },
    {
      "cell_type": "markdown",
      "metadata": {
        "id": "xnxwl89qhS_Q"
      },
      "source": [
        "- Import TensorFlow Hub ✅"
      ]
    },
    {
      "cell_type": "code",
      "metadata": {
        "id": "-PaRRof0hP6_",
        "colab": {
          "base_uri": "https://localhost:8080/"
        },
        "outputId": "33844f52-7e5a-4cf4-f4b3-eec0c53fce0f"
      },
      "source": [
        "import tensorflow_hub as hub\n",
        "print(\"Hub version:\", hub.__version__)"
      ],
      "execution_count": 2,
      "outputs": [
        {
          "output_type": "stream",
          "name": "stdout",
          "text": [
            "Hub version: 0.12.0\n"
          ]
        }
      ]
    },
    {
      "cell_type": "markdown",
      "metadata": {
        "id": "7Gy860TDhV4e"
      },
      "source": [
        "- Make sure we're using a GPU ✅"
      ]
    },
    {
      "cell_type": "code",
      "metadata": {
        "id": "kzIWgl6uhnYK",
        "colab": {
          "base_uri": "https://localhost:8080/"
        },
        "outputId": "9d15e941-1fc3-4653-920d-395837fb450c"
      },
      "source": [
        "print(\"GPU:\", \"Available (YESSS!!!!!)\" if tf.config.list_physical_devices(\"GPU\") else \"Not available...\")"
      ],
      "execution_count": 3,
      "outputs": [
        {
          "output_type": "stream",
          "name": "stdout",
          "text": [
            "GPU: Available (YESSS!!!!!)\n"
          ]
        }
      ]
    },
    {
      "cell_type": "markdown",
      "metadata": {
        "id": "cbq2VtkwYPmN"
      },
      "source": [
        "### 4.2. Getting data ready\n",
        "\n",
        "We'll be using data from the [Kaggle dog breed identification competition](https://www.kaggle.com/c/dog-breed-identification/overview). It consists of a collection of 10,000+ labelled images of 120 different dog breeds.\n",
        "\n",
        "This project is hosted via Google Colaboratory. As such, one great way to setup our project data is to mount our Google Drive folder and import the data from there:"
      ]
    },
    {
      "cell_type": "code",
      "metadata": {
        "id": "4uvruFbWY3QZ",
        "colab": {
          "base_uri": "https://localhost:8080/"
        },
        "outputId": "71e0b7e8-eb66-414a-f0ff-649c502fd2de"
      },
      "source": [
        "# Running this cell will provide you with a token to link your drive to this notebook\n",
        "from google.colab import drive\n",
        "drive.mount('/content/drive')"
      ],
      "execution_count": 4,
      "outputs": [
        {
          "output_type": "stream",
          "name": "stdout",
          "text": [
            "Drive already mounted at /content/drive; to attempt to forcibly remount, call drive.mount(\"/content/drive\", force_remount=True).\n"
          ]
        }
      ]
    },
    {
      "cell_type": "markdown",
      "metadata": {
        "id": "WTekiMiUZOOi"
      },
      "source": [
        "We'll first have to unzip the files provided by Kaggle:\n",
        "\n",
        "> **Note:** Running the cell below for the first time could take a while (a couple of minutes is normal). After you've run it once and got the data in your Google Drive, you don't need to run it again.\n",
        "\n",
        "> **Note 2:** Wherever you see something like `drive/MyDrive/folderPath/` you will need to change it to wherever you are storing your files for this project. The first place you'll have to change it is the cell below:"
      ]
    },
    {
      "cell_type": "code",
      "metadata": {
        "id": "mf8kS0eXaCR-"
      },
      "source": [
        "# Use the '-d' parameter as the destination for where the files should go\n",
        "# !unzip \"drive/MyDrive/ZTM-MLCourse/dog-breed-identification.zip\" -d \"drive/MyDrive/ZTM-MLCourse/\""
      ],
      "execution_count": 5,
      "outputs": []
    }
  ]
}